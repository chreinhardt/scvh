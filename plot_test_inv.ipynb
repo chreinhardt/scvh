{
 "cells": [
  {
   "cell_type": "markdown",
   "metadata": {},
   "source": [
    "# Test inversion functions\n",
    "This notebook is used to test the implementation of the inversion functions, e.g., $T\\left(\\rho, u \\right)$."
   ]
  },
  {
   "cell_type": "markdown",
   "metadata": {},
   "source": [
    "### Import modules"
   ]
  },
  {
   "cell_type": "code",
   "execution_count": null,
   "metadata": {},
   "outputs": [],
   "source": [
    "from __future__ import print_function\n",
    "import matplotlib.pyplot as plt\n",
    "import matplotlib as mpl\n",
    "from scipy import interpolate as interp\n",
    "import numpy as np"
   ]
  },
  {
   "cell_type": "code",
   "execution_count": null,
   "metadata": {},
   "outputs": [],
   "source": [
    "%matplotlib widget\n",
    "%config InlineBackend.figure_format = 'retina'"
   ]
  },
  {
   "cell_type": "code",
   "execution_count": null,
   "metadata": {},
   "outputs": [],
   "source": [
    "mpl.rcParams['figure.dpi'] = 100"
   ]
  },
  {
   "cell_type": "code",
   "execution_count": null,
   "metadata": {},
   "outputs": [],
   "source": [
    "logrho_axis =  np.loadtxt(\"testscvheosinv_rhoaxis.txt\")\n",
    "logT_axis =  np.loadtxt(\"testscvheosinv_taxis.txt\")\n",
    "\n",
    "logTofLogRhoLogU_err = np.loadtxt(\"testscvheosinv_logtoflogrhologu.txt\")\n",
    "logTofLogRhoLogS_err = np.loadtxt(\"testscvheosinv_logtoflogrhologs.txt\")\n",
    "logRhoofLogPLogT_err = np.loadtxt(\"testscvheosinv_logrhooflogplogt.txt\")\n",
    "\n",
    "\n",
    "logrho_axis_min = np.min(logrho_axis)\n",
    "logrho_axis_max = np.max(logrho_axis)\n",
    "logT_axis_min = np.min(logT_axis)\n",
    "logT_axis_max = np.max(logT_axis)\n",
    "\n",
    "nRho = np.size(logrho_axis)\n",
    "nT = np.size(logT_axis)\n",
    "\n",
    "print(\"nRho = {:} nT= {:}\".format(nRho, nT))"
   ]
  },
  {
   "cell_type": "code",
   "execution_count": null,
   "metadata": {
    "tags": []
   },
   "outputs": [],
   "source": [
    "# Load data on where the original table in P-T was not defined\n",
    "data = np.loadtxt(\"logrho_limit_pt.txt\")\n",
    "T_lim = data[:,0]\n",
    "rho_min_lim = data[:,1]\n",
    "rho_max_lim = data[:,2]\n",
    "\n",
    "print(\"{:} {:} {:}\".format(T_lim, rho_min_lim, rho_max_lim))\n",
    "\n",
    "fig, ax = plt.subplots()\n",
    "\n",
    "plt.scatter(rho_min_lim, T_lim, color='red')\n",
    "plt.scatter(rho_max_lim, T_lim, color='red')\n",
    "\n"
   ]
  },
  {
   "cell_type": "code",
   "execution_count": null,
   "metadata": {},
   "outputs": [],
   "source": [
    "# Plot the difference in T(rho, u) on a rho x T grid\n",
    "diff = np.zeros(logTofLogRhoLogU_err.shape)\n",
    "\n",
    "diff[np.where(logTofLogRhoLogU_err >= 0)] = 4\n",
    "diff[np.where(logTofLogRhoLogU_err < 1e-1)] = 3\n",
    "diff[np.where(logTofLogRhoLogU_err < 1e-3)] = 2\n",
    "diff[np.where(logTofLogRhoLogU_err < 1e-6)] = 1\n",
    "diff[np.where(logTofLogRhoLogU_err < 1e-8)] = 0\n",
    "\n",
    "fig, ax = plt.subplots()\n",
    "\n",
    "plt.imshow(diff, cmap=plt.cm.get_cmap('viridis', 5), origin='lower', interpolation='none', extent=[logrho_axis_min, logrho_axis_max, logT_axis_min, logT_axis_max], aspect='auto')\n",
    "cbar = plt.colorbar()\n",
    "\n",
    "plt.clim(-0.5, 4.5);\n",
    "\n",
    "cbar.set_ticks(range(0, 5))\n",
    "cbar.set_ticklabels([\"$<10^{-8}$\", \"$<10^{-6}$\", \"$<10^{-3}$\", \"$<10^{-1}$\", \"$\\geq 10^{-1}$\"])\n",
    "\n",
    "plt.xlabel(\"Density [g cm$^3$]\")\n",
    "plt.ylabel(\"Temperature [K]\")\n",
    "plt.title(r\"(T($\\rho$, u($\\rho$, T))-T)/T\")\n",
    "\n",
    "plt.plot(rho_min_lim, T_lim, color='red')\n",
    "plt.plot(rho_max_lim, T_lim, color='red')\n",
    "\n",
    "plt.xlim(logrho_axis_min, logrho_axis_max)\n",
    "plt.ylim(logT_axis_min, logT_axis_max)"
   ]
  },
  {
   "cell_type": "code",
   "execution_count": null,
   "metadata": {},
   "outputs": [],
   "source": [
    "# Plot the difference in T(rho, s) on a rho x T grid\n",
    "diff = np.zeros(logTofLogRhoLogS_err.shape)\n",
    "\n",
    "diff[np.where(logTofLogRhoLogS_err >= 0)] = 4\n",
    "diff[np.where(logTofLogRhoLogS_err < 1e-1)] = 3\n",
    "diff[np.where(logTofLogRhoLogS_err < 1e-3)] = 2\n",
    "diff[np.where(logTofLogRhoLogS_err < 1e-6)] = 1\n",
    "diff[np.where(logTofLogRhoLogS_err < 1e-8)] = 0\n",
    "\n",
    "fig, ax = plt.subplots()\n",
    "\n",
    "plt.imshow(diff, cmap=plt.cm.get_cmap('viridis', 5), origin='lower', interpolation='none', extent=[logrho_axis_min, logrho_axis_max, logT_axis_min, logT_axis_max], aspect='auto')\n",
    "cbar = plt.colorbar()\n",
    "\n",
    "plt.clim(-0.5, 4.5);\n",
    "\n",
    "cbar.set_ticks(range(0, 5))\n",
    "cbar.set_ticklabels([\"$<10^{-8}$\", \"$<10^{-6}$\", \"$<10^{-3}$\", \"$<10^{-1}$\", \"$\\geq 10^{-1}$\"])\n",
    "\n",
    "\n",
    "plt.xlabel(\"Density [g cm$^3$]\")\n",
    "plt.ylabel(\"Temperature [K]\")\n",
    "\n",
    "plt.title(r\"(T($\\rho$, s($\\rho$, T))-T)/T\")\n",
    "\n",
    "plt.plot(rho_min_lim, T_lim, color='red')\n",
    "plt.plot(rho_max_lim, T_lim, color='red')\n",
    "\n",
    "plt.xlim(logrho_axis_min, logrho_axis_max)\n",
    "plt.ylim(logT_axis_min, logT_axis_max)"
   ]
  },
  {
   "cell_type": "code",
   "execution_count": null,
   "metadata": {},
   "outputs": [],
   "source": [
    "# Plot the difference in rho(P, T) on a rho x T grid\n",
    "diff = np.zeros(logRhoofLogPLogT_err.shape)\n",
    "\n",
    "diff[np.where(logRhoofLogPLogT_err >= 0)] = 4\n",
    "diff[np.where(logRhoofLogPLogT_err < 1e-1)] = 3\n",
    "diff[np.where(logRhoofLogPLogT_err < 1e-3)] = 2\n",
    "diff[np.where(logRhoofLogPLogT_err < 1e-6)] = 1\n",
    "diff[np.where(logRhoofLogPLogT_err < 1e-8)] = 0\n",
    "\n",
    "fig, ax = plt.subplots()\n",
    "\n",
    "plt.imshow(diff, cmap=plt.cm.get_cmap('viridis', 5), origin='lower', interpolation='none', extent=[logrho_axis_min, logrho_axis_max, logT_axis_min, logT_axis_max], aspect='auto')\n",
    "cbar = plt.colorbar()\n",
    "\n",
    "plt.clim(-0.5, 4.5);\n",
    "\n",
    "cbar.set_ticks(range(0, 5))\n",
    "cbar.set_ticklabels([\"$<10^{-8}$\", \"$<10^{-6}$\", \"$<10^{-3}$\", \"$<10^{-1}$\", \"$\\geq 10^{-1}$\"])\n",
    "\n",
    "\n",
    "plt.xlabel(\"Density [g cm$^3$]\")\n",
    "plt.ylabel(\"Temperature [K]\")\n",
    "\n",
    "plt.title(r\"($\\rho$(P($\\rho$, T), T))-$\\rho$)/$\\rho$\")\n",
    "\n",
    "plt.plot(rho_min_lim, T_lim, color='red')\n",
    "plt.plot(rho_max_lim, T_lim, color='red')\n",
    "\n",
    "plt.xlim(logrho_axis_min, logrho_axis_max)\n",
    "plt.ylim(logT_axis_min, logT_axis_max)\n",
    "\n"
   ]
  },
  {
   "cell_type": "code",
   "execution_count": null,
   "metadata": {},
   "outputs": [],
   "source": []
  }
 ],
 "metadata": {
  "kernelspec": {
   "display_name": "Python 3 (ipykernel)",
   "language": "python",
   "name": "python3"
  },
  "language_info": {
   "codemirror_mode": {
    "name": "ipython",
    "version": 3
   },
   "file_extension": ".py",
   "mimetype": "text/x-python",
   "name": "python",
   "nbconvert_exporter": "python",
   "pygments_lexer": "ipython3",
   "version": "3.10.6"
  }
 },
 "nbformat": 4,
 "nbformat_minor": 4
}
