{
 "cells": [
  {
   "cell_type": "markdown",
   "metadata": {},
   "source": [
    "# Test temperature inversion"
   ]
  },
  {
   "cell_type": "markdown",
   "metadata": {},
   "source": [
    "### Import modules"
   ]
  },
  {
   "cell_type": "code",
   "execution_count": null,
   "metadata": {},
   "outputs": [],
   "source": [
    "from __future__ import print_function\n",
    "import matplotlib.pyplot as plt\n",
    "import matplotlib as mpl\n",
    "from scipy import interpolate as interp\n",
    "import numpy as np"
   ]
  },
  {
   "cell_type": "code",
   "execution_count": null,
   "metadata": {},
   "outputs": [],
   "source": [
    "%matplotlib widget\n",
    "%config InlineBackend.figure_format = 'retina'"
   ]
  },
  {
   "cell_type": "code",
   "execution_count": null,
   "metadata": {},
   "outputs": [],
   "source": [
    "mpl.rcParams['figure.dpi'] = 100"
   ]
  },
  {
   "cell_type": "code",
   "execution_count": null,
   "metadata": {},
   "outputs": [],
   "source": [
    "logrho_axis =  np.loadtxt(\"testscvheostempinv_rhoaxis.txt\")\n",
    "logT_axis =  np.loadtxt(\"testscvheostempinv_taxis.txt\")\n",
    "\n",
    "logT_err = np.loadtxt(\"testscvheostempinv.txt\")\n",
    "\n",
    "logrho_axis_min = np.min(logrho_axis)\n",
    "logrho_axis_max = np.max(logrho_axis)\n",
    "logT_axis_min = np.min(logT_axis)\n",
    "logT_axis_max = np.max(logT_axis)\n",
    "\n",
    "nRho = np.size(logrho_axis)\n",
    "nT = np.size(logT_axis)\n",
    "\n",
    "print(\"nRho = {:} nT= {:}\".format(nRho, nT))"
   ]
  },
  {
   "cell_type": "code",
   "execution_count": null,
   "metadata": {},
   "outputs": [],
   "source": [
    "# Plot the difference in T(rho, u) on a rho x T grid\n",
    "diff = np.zeros(logT_err.shape)\n",
    "\n",
    "diff[np.where(logT_err >= 0)] = 4\n",
    "diff[np.where(logT_err < 1e-1)] = 3\n",
    "diff[np.where(logT_err < 1e-3)] = 2\n",
    "diff[np.where(logT_err < 1e-6)] = 1\n",
    "diff[np.where(logT_err < 1e-8)] = 0\n",
    "\n",
    "fig, ax = plt.subplots()\n",
    "\n",
    "plt.imshow(diff, cmap=plt.cm.get_cmap('viridis', 5), origin='lower', interpolation='none', extent=[logrho_axis_min, logrho_axis_max, logT_axis_min, logT_axis_max], aspect='auto')\n",
    "cbar = plt.colorbar()\n",
    "\n",
    "plt.clim(-0.5, 4.5);\n",
    "\n",
    "cbar.set_ticks(range(0, 5))\n",
    "cbar.set_ticklabels([\"$<10^{-8}$\", \"$<10^{-6}$\", \"$<10^{-3}$\", \"$<10^{-1}$\", \"$\\geq 10^{-1}$\"])\n",
    "\n",
    "\n",
    "plt.xlabel(\"Density [g cm$^3$]\")\n",
    "plt.ylabel(\"Temperature [K]\")"
   ]
  },
  {
   "cell_type": "code",
   "execution_count": null,
   "metadata": {},
   "outputs": [],
   "source": []
  }
 ],
 "metadata": {
  "kernelspec": {
   "display_name": "Python 3 (ipykernel)",
   "language": "python",
   "name": "python3"
  },
  "language_info": {
   "codemirror_mode": {
    "name": "ipython",
    "version": 3
   },
   "file_extension": ".py",
   "mimetype": "text/x-python",
   "name": "python",
   "nbconvert_exporter": "python",
   "pygments_lexer": "ipython3",
   "version": "3.8.10"
  }
 },
 "nbformat": 4,
 "nbformat_minor": 4
}
