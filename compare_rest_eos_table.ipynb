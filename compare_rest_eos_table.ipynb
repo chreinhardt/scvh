{
 "cells": [
  {
   "cell_type": "markdown",
   "metadata": {},
   "source": [
    "# Compare the restricted SCvH EOS tables for a H-He mixture\n",
    "We compare two EOS tables that are derived from the SCvH equation of state [Saumon et al. 1995](https://ui.adsabs.harvard.edu/abs/1995ApJS...99..713S/abstract) for Hydrogen and Helium. The first is limited to $-8 \\leq \\log{\\rho} \\leq -4$ and $1.06 \\leq \\log{T} \\leq 3.46$ and extended to lower densities using (linear) extrapolation. The second covers a much larger range in density ($-14 \\leq \\log{\\rho} \\leq -4$) and temperatures ($1.06 \\leq \\log{T} \\leq 3.49$)."
   ]
  },
  {
   "cell_type": "markdown",
   "metadata": {},
   "source": [
    "### Import modules"
   ]
  },
  {
   "cell_type": "code",
   "execution_count": null,
   "metadata": {},
   "outputs": [],
   "source": [
    "from __future__ import print_function\n",
    "import matplotlib.pyplot as plt\n",
    "import matplotlib as mpl\n",
    "from scipy import interpolate as interp\n",
    "import numpy as np"
   ]
  },
  {
   "cell_type": "code",
   "execution_count": null,
   "metadata": {},
   "outputs": [],
   "source": [
    "%matplotlib widget\n",
    "%config InlineBackend.figure_format = 'retina'"
   ]
  },
  {
   "cell_type": "code",
   "execution_count": null,
   "metadata": {},
   "outputs": [],
   "source": [
    "mpl.rcParams['figure.dpi'] = 100"
   ]
  },
  {
   "cell_type": "code",
   "execution_count": null,
   "metadata": {},
   "outputs": [],
   "source": [
    "def read_eos_table_dt(filename, delimiter=None, skiprows=0):\n",
    "    data = np.loadtxt(filename, delimiter=delimiter, skiprows=skiprows) \n",
    "\n",
    "    logT_table   = data[:, 0]\n",
    "    logrho_table = data[:, 1]\n",
    "    logP_table   = data[:, 2]\n",
    "    logu_table   = data[:, 3]\n",
    "    logs_table   = data[:, 4]\n",
    "\n",
    "    # All the SCvH EOS tables are tabulated along isotherms\n",
    "    logT = np.unique(logT_table)\n",
    "    nT = np.size(logT)\n",
    "\n",
    "    # For the mixture tables the number of grid points in rho the same for each isotherm\n",
    "    nRho = int(np.size(logT_table)/nT)\n",
    "    \n",
    "    print(\"nT = {:} nRho = {:}\".format(nT, nRho))\n",
    "    \n",
    "    logrho = logrho_table[0:nRho]\n",
    "    \n",
    "    logrho_min = np.min(logrho)\n",
    "    logrho_max = np.max(logrho)\n",
    "    logT_min   = np.min(logT)\n",
    "    logT_max   = np.max(logT)\n",
    "\n",
    "    print(\"logrho_min = {:}\".format(logrho_min))\n",
    "    print(\"logrho_max = {:}\".format(logrho_max))\n",
    "    print(\"logT_min   = {:}\".format(logT_min))\n",
    "    print(\"logT_max   = {:}\".format(logT_max))\n",
    "    print()\n",
    "\n",
    "    # Split into arrays of constant T\n",
    "    logP_array = np.split(logP_table, nT)\n",
    "    logu_array = np.split(logu_table, nT)\n",
    "    logs_array = np.split(logs_table, nT)\n",
    "\n",
    "    # Generate 2d arrays\n",
    "    logP = np.vstack(logP_array)\n",
    "    logu = np.vstack(logu_array)\n",
    "    logs = np.vstack(logs_array)\n",
    "      \n",
    "    eos_table_dt = {\n",
    "        \"nT\":         nT,\n",
    "        \"nRho\":       nRho,\n",
    "        \"logT\":       logT,\n",
    "        \"logrho\":     logrho,\n",
    "        \"logrho_min\": logrho_min,\n",
    "        \"logrho_max\": logrho_max,\n",
    "        \"logT_min\":   logT_min,\n",
    "        \"logT_max\":   logT_max,\n",
    "        \"logP\":       logP,\n",
    "        \"logu\":       logu,\n",
    "        \"logs\":       logs,\n",
    "    }\n",
    "    \n",
    "    return eos_table_dt"
   ]
  },
  {
   "cell_type": "code",
   "execution_count": null,
   "metadata": {},
   "outputs": [],
   "source": [
    "def press_ideal_gas(rho, T, mu=2.3, gamma=5.0/3.0):\n",
    "    kB = 1.38e-16  # erg/K\n",
    "    m_H = 1.67e-24 # g\n",
    "    return kB/(mu*m_H)*rho*T"
   ]
  },
  {
   "cell_type": "code",
   "execution_count": null,
   "metadata": {},
   "outputs": [],
   "source": [
    "def intenergy_ideal_gas(T, mu=2.3, gamma=5.0/3.0):\n",
    "    kB = 1.38e-16  # erg/K\n",
    "    m_H = 1.67e-24 # g\n",
    "    return kB/((gamma-1.0)*mu*m_H)*T"
   ]
  },
  {
   "cell_type": "code",
   "execution_count": null,
   "metadata": {},
   "outputs": [],
   "source": [
    "def entropy_ideal_gas(T, mu=2.3, gamma=5.0/3.0):\n",
    "    kB = 1.38e-16  # erg/K\n",
    "    m_H = 1.67e-24 # g\n",
    "    return kB/(mu*m_H)*(np.log(T/T0) - 1.0/(gamma-1.0)*np.log(rho/rho0))"
   ]
  },
  {
   "cell_type": "markdown",
   "metadata": {},
   "source": [
    "The mixture was obtained from the additive volume law (AVL) with Y=0.278 using bilinear spline interpolation and extrapolation."
   ]
  },
  {
   "cell_type": "code",
   "execution_count": null,
   "metadata": {},
   "outputs": [],
   "source": [
    "#scvh_hhe = read_eos_table_dt(\"scvh_hhe_y0.275_dt_cgs.csv\", delimiter=\",\", skiprows=1)\n",
    "scvh_hhe_ext = read_eos_table_dt(\"scvh_extended_dt_hydrogen_722_helium_278.data\")\n",
    "scvh_hhe_extrap = read_eos_table_dt(\"extrap_scvh_on_grid.txt\")"
   ]
  },
  {
   "cell_type": "code",
   "execution_count": null,
   "metadata": {},
   "outputs": [],
   "source": [
    "# Generate interpolation functions for the extended EOS table\n",
    "logP_int = interp.interp2d(scvh_hhe_ext['logrho'], scvh_hhe_ext['logT'], scvh_hhe_ext['logP'], kind='linear')\n",
    "logu_int = interp.interp2d(scvh_hhe_ext['logrho'], scvh_hhe_ext['logT'], scvh_hhe_ext['logu'], kind='linear')\n",
    "logs_int = interp.interp2d(scvh_hhe_ext['logrho'], scvh_hhe_ext['logT'], scvh_hhe_ext['logs'], kind='linear')"
   ]
  },
  {
   "cell_type": "code",
   "execution_count": null,
   "metadata": {},
   "outputs": [],
   "source": [
    "# Skip some curves otherwise the plots are very hard to read\n",
    "nSkipT = 4\n",
    "nSkipRho = 10\n",
    "\n",
    "#nSkipT = 1\n",
    "#nSkipRho = 1"
   ]
  },
  {
   "cell_type": "code",
   "execution_count": null,
   "metadata": {},
   "outputs": [],
   "source": [
    "# Plot log(P), log(u) and log(s) of the two tables\n",
    "fig, ax = plt.subplots(3, 2)\n",
    "\n",
    "x, y = fig.get_size_inches()\n",
    "\n",
    "fig.set_size_inches(2*x, 3*y)\n",
    "\n",
    "# P(rho, T=const)\n",
    "ax[0][0].set_prop_cycle(None)\n",
    "for i in range(0, scvh_hhe_extrap['nT'], nSkipT):\n",
    "    ax[0][0].plot(scvh_hhe_extrap['logrho'], scvh_hhe_extrap['logP'][i,:], '-')\n",
    "\n",
    "ax[0][0].set_prop_cycle(None)\n",
    "for i in range(0, scvh_hhe_extrap['nT'], nSkipT):\n",
    "    ax[0][0].plot(scvh_hhe_extrap['logrho'], logP_int(scvh_hhe_extrap['logrho'], scvh_hhe_extrap['logT'][i]), '--')\n",
    "\n",
    "# Mark T=T_min\n",
    "ax[0][0].plot(scvh_hhe_extrap['logrho'], scvh_hhe_extrap['logP'][0,:], '--', color='black')\n",
    "\n",
    "ax[0][0].set(xlabel=\"log(rho) [g cm^${-3}$]\", ylabel=\"log(P) [erg cm$^{-3}$]\")\n",
    "ax[0][0].set(title=\"SCvH EOS H (T=const.)\")\n",
    "\n",
    "# P(rho=const, T)\n",
    "ax[0][1].set_prop_cycle(None)\n",
    "for i in range(0, scvh_hhe_extrap['nRho'], nSkipRho):\n",
    "    ax[0][1].plot(scvh_hhe_extrap['logT'], scvh_hhe_extrap['logP'][:,i], '-')\n",
    "\n",
    "ax[0][1].set_prop_cycle(None)\n",
    "for i in range(0, scvh_hhe_extrap['nRho'], nSkipRho):\n",
    "    ax[0][1].plot(scvh_hhe_extrap['logT'], logP_int(scvh_hhe_extrap['logrho'][i], scvh_hhe_extrap['logT']), '--')\n",
    "\n",
    "# Mark rho=rho_max\n",
    "index_rho_max = scvh_hhe_extrap['nRho']-1\n",
    "ax[0][1].plot(scvh_hhe_extrap['logT'], scvh_hhe_extrap['logP'][:,index_rho_max], '--', color='black')\n",
    "\n",
    "ax[0][1].set(xlabel=\"log(T) [K]\", ylabel=\"log(P) [erg cm$^{-3}$]\")\n",
    "ax[0][1].set(title=\"SCvH EOS H (rho=const.)\")\n",
    "\n",
    "# u(rho, T=const)\n",
    "ax[1][0].set_prop_cycle(None)\n",
    "for i in range(0, scvh_hhe_extrap['nT'], nSkipT):\n",
    "    ax[1][0].plot(scvh_hhe_extrap['logrho'], scvh_hhe_extrap['logu'][i,:], '-')\n",
    "\n",
    "ax[1][0].set_prop_cycle(None)\n",
    "for i in range(0, scvh_hhe_extrap['nT'], nSkipT):\n",
    "    ax[1][0].plot(scvh_hhe_extrap['logrho'], logu_int(scvh_hhe_extrap['logrho'], scvh_hhe_extrap['logT'][i]), '--')\n",
    "\n",
    "ax[1][0].set(xlabel=\"log(rho) [g cm^${-3}$]\", ylabel=\"log(u) [erg g$^{-1}$]\")\n",
    "\n",
    "# u(rho=const, T)\n",
    "ax[1][1].set_prop_cycle(None)\n",
    "for i in range(0, scvh_hhe_extrap['nRho'], nSkipRho):\n",
    "    ax[1][1].plot(scvh_hhe_extrap['logT'], scvh_hhe_extrap['logu'][:,i], '-')\n",
    "\n",
    "ax[1][1].set_prop_cycle(None)\n",
    "for i in range(0, scvh_hhe_extrap['nRho'], nSkipRho):\n",
    "    ax[1][1].plot(scvh_hhe_extrap['logT'], logu_int(scvh_hhe_extrap['logrho'][i], scvh_hhe_extrap['logT']), '--')\n",
    "\n",
    "index_rho_max = scvh_hhe_extrap['nRho']-1\n",
    "ax[1][1].plot(scvh_hhe_extrap['logT'], scvh_hhe_extrap['logu'][:,index_rho_max], '--', color='black')\n",
    "\n",
    "ax[1][1].set(xlabel=\"log(T) [K]\", ylabel=\"log(u) [erg g$^{-1}$]\")\n",
    "\n",
    "# s(rho, T=const)\n",
    "ax[2][0].set_prop_cycle(None)\n",
    "for i in range(0, scvh_hhe_extrap['nT'], nSkipT):\n",
    "    ax[2][0].plot(scvh_hhe_extrap['logrho'], scvh_hhe_extrap['logs'][i,:], '-')\n",
    "\n",
    "ax[2][0].set_prop_cycle(None)\n",
    "for i in range(0, scvh_hhe_extrap['nT'], nSkipT):\n",
    "    ax[2][0].plot(scvh_hhe_extrap['logrho'], logs_int(scvh_hhe_extrap['logrho'], scvh_hhe_extrap['logT'][i]), '--')\n",
    "\n",
    "ax[2][0].set(xlabel=\"log(rho) [g cm^${-3}$]\", ylabel=\"log(s) [erg g$^{-1}$ K$^{-1}$]\")\n",
    "\n",
    "# s(rho=const, T)\n",
    "ax[2][1].set_prop_cycle(None)\n",
    "for i in range(0, scvh_hhe_extrap['nRho'], nSkipRho):\n",
    "    ax[2][1].plot(scvh_hhe_extrap['logT'], scvh_hhe_extrap['logs'][:,i], '-')\n",
    "\n",
    "ax[2][1].set_prop_cycle(None)\n",
    "for i in range(0, scvh_hhe_extrap['nRho'], nSkipRho):\n",
    "    ax[2][1].plot(scvh_hhe_extrap['logT'], logs_int(scvh_hhe_extrap['logrho'][i], scvh_hhe_extrap['logT']), '--')\n",
    "\n",
    "ax[2][1].set(xlabel=\"log(T) [K]\", ylabel=\"log(s) [erg g$^{-1}$ K$^{-1}$]\")\n"
   ]
  }
 ],
 "metadata": {
  "kernelspec": {
   "display_name": "Python 3 (ipykernel)",
   "language": "python",
   "name": "python3"
  },
  "language_info": {
   "codemirror_mode": {
    "name": "ipython",
    "version": 3
   },
   "file_extension": ".py",
   "mimetype": "text/x-python",
   "name": "python",
   "nbconvert_exporter": "python",
   "pygments_lexer": "ipython3",
   "version": "3.10.6"
  }
 },
 "nbformat": 4,
 "nbformat_minor": 4
}
