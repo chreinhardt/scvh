{
 "cells": [
  {
   "cell_type": "markdown",
   "metadata": {},
   "source": [
    "# Plot isentrope\n",
    "This notebook plot an isentrope calclulated with `scvheos_calc_isentrope.c`. The code requires the following input parameters:\n",
    "- `rhoi`: initial density\n",
    "- `Ti`: initial temperature\n",
    "- `rhof`: final density\n",
    "- `nRho`: number of steps in rho"
   ]
  },
  {
   "cell_type": "markdown",
   "metadata": {},
   "source": [
    "### Import modules"
   ]
  },
  {
   "cell_type": "code",
   "execution_count": null,
   "metadata": {},
   "outputs": [],
   "source": [
    "from __future__ import print_function\n",
    "import matplotlib.pyplot as plt\n",
    "import matplotlib as mpl\n",
    "from scipy import interpolate as interp\n",
    "import numpy as np"
   ]
  },
  {
   "cell_type": "code",
   "execution_count": null,
   "metadata": {},
   "outputs": [],
   "source": [
    "%matplotlib widget\n",
    "%config InlineBackend.figure_format = 'retina'"
   ]
  },
  {
   "cell_type": "code",
   "execution_count": null,
   "metadata": {},
   "outputs": [],
   "source": [
    "mpl.rcParams['figure.dpi'] = 100"
   ]
  },
  {
   "cell_type": "code",
   "execution_count": null,
   "metadata": {},
   "outputs": [],
   "source": [
    "# Load isentrope\n",
    "data = np.loadtxt(\"isentrope.txt\")\n",
    "\n",
    "rho = data[:,0]\n",
    "u   = data[:,1]\n",
    "T   = data[:,2]\n",
    "s   = data[:,3]\n",
    "\n",
    "nRho = np.size(rho)\n",
    "\n",
    "print(\"nRho={:}\".format(nRho))"
   ]
  },
  {
   "cell_type": "code",
   "execution_count": null,
   "metadata": {},
   "outputs": [],
   "source": [
    "# Plot u(rho), T(rho) and s(rho)\n",
    "fig, ax = plt.subplots(3, 1)\n",
    "\n",
    "x, y = fig.get_size_inches()\n",
    "\n",
    "fig.set_size_inches(1*x, 3*y)\n",
    "\n",
    "# u(rho, s=const)\n",
    "ax[0].semilogx(rho, u, '-')\n",
    "    \n",
    "ax[0].set(xlabel=\"rho [g cm^${-3}$]\", ylabel=\"u [erg g$^{-1}$]\")\n",
    "#ax[0][0].set(title=\"SCvH EOS H (T=const.)\")\n",
    "\n",
    "# T(rho, s=const)\n",
    "ax[1].semilogx(rho, T, '-')\n",
    "\n",
    "ax[1].set(xlabel=\"rho [g cm^${-3}$]\", ylabel=\"T [K]\")\n",
    "#ax[0][1].set(title=\"SCvH EOS H (rho=const.)\")\n",
    "\n",
    "# s(rho)\n",
    "ax[2].semilogx(rho, s, '-')\n",
    "\n",
    "ax[2].set(xlabel=\"rho [g cm^${-3}$]\", ylabel=\"s [erg g$^{-1}$ K$^{-1}$]\")\n"
   ]
  },
  {
   "cell_type": "code",
   "execution_count": null,
   "metadata": {},
   "outputs": [],
   "source": []
  }
 ],
 "metadata": {
  "kernelspec": {
   "display_name": "Python 3 (ipykernel)",
   "language": "python",
   "name": "python3"
  },
  "language_info": {
   "codemirror_mode": {
    "name": "ipython",
    "version": 3
   },
   "file_extension": ".py",
   "mimetype": "text/x-python",
   "name": "python",
   "nbconvert_exporter": "python",
   "pygments_lexer": "ipython3",
   "version": "3.10.6"
  }
 },
 "nbformat": 4,
 "nbformat_minor": 4
}
