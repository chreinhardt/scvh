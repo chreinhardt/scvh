{
 "cells": [
  {
   "cell_type": "markdown",
   "metadata": {},
   "source": [
    "# Generate tables in density and temperatures for the extended SCvH EOS"
   ]
  },
  {
   "cell_type": "markdown",
   "metadata": {},
   "source": [
    "The original SCvH EOS table was extended to lower temperatures (and pressures?). However, these tables use $(P, T)$ as variables which is not useful for applications in hydro codes. \n",
    "\n",
    "We therefore have to invert $\\rho \\left( P, T \\right)$ to $ P\\left( \\rho, T \\right)$ by solving\n",
    "$$ \\rho \\left( P, T=const \\right) - \\rho_i = 0$$\n",
    "for a grid of $\\rho_i$ using a root finder.\n"
   ]
  },
  {
   "cell_type": "markdown",
   "metadata": {},
   "source": [
    "### Import modules"
   ]
  },
  {
   "cell_type": "code",
   "execution_count": null,
   "metadata": {},
   "outputs": [],
   "source": [
    "from __future__ import print_function\n",
    "import matplotlib.pyplot as plt\n",
    "import matplotlib as mpl\n",
    "from scipy import interpolate as interp\n",
    "#from scipy import optimize\n",
    "import numpy as np"
   ]
  },
  {
   "cell_type": "code",
   "execution_count": null,
   "metadata": {},
   "outputs": [],
   "source": [
    "%matplotlib widget\n",
    "%config InlineBackend.figure_format = 'retina'"
   ]
  },
  {
   "cell_type": "code",
   "execution_count": null,
   "metadata": {},
   "outputs": [],
   "source": [
    "mpl.rcParams['figure.dpi'] = 100"
   ]
  },
  {
   "cell_type": "markdown",
   "metadata": {},
   "source": [
    "Convert units from cgs to SI:"
   ]
  },
  {
   "cell_type": "code",
   "execution_count": null,
   "metadata": {},
   "outputs": [],
   "source": [
    "press_unit_si = 0.1        # erg/cm^3 in Pascal\n",
    "spec_energy_unit_si = 1e4  # erg/g in J/kg"
   ]
  },
  {
   "cell_type": "code",
   "execution_count": null,
   "metadata": {},
   "outputs": [],
   "source": [
    "data = np.loadtxt(\"hydrogen_scvh_extended.data\") \n",
    "\n",
    "logT_table   = data[:, 0] \n",
    "logP_table   = data[:, 1]\n",
    "frac_H2      = data[:, 2]\n",
    "frac_H       = data[:, 3]\n",
    "logrho_table = data[:, 4]\n",
    "logu_table   = data[:, 5]\n",
    "logs_table   = data[:, 6]\n",
    "\n",
    "# All the SCvH EOS tables are tabulated along isotherms\n",
    "logT_table_axis = np.unique(logT_table)\n",
    "nT = np.size(logT_table_axis)\n",
    "\n",
    "print(\"Number of isotherms: nT = {:}\".format(nT))\n",
    "\n",
    "# The number of grid points in P are different for each isotherm\n",
    "logP_table_axis = list()\n",
    "logrho_isotherm = list()\n",
    "logu_isotherm = list()\n",
    "logs_isotherm = list()\n",
    "\n",
    "for logT in logT_table_axis:\n",
    "    logP_table_axis.append(logP_table[np.where(logT_table == logT)])\n",
    "    logrho_isotherm.append(logrho_table[np.where(logT_table == logT)])\n",
    "    logu_isotherm.append(logu_table[np.where(logT_table == logT)])\n",
    "    logs_isotherm.append(logs_table[np.where(logT_table == logT)])\n",
    "\n",
    "logT_min   = np.min(logT_table_axis)\n",
    "logT_max   = np.max(logT_table_axis)\n",
    "\n",
    "print(\"logT_min = {:}\".format(logT_min))\n",
    "print(\"logT_max = {:}\".format(logT_max))\n",
    "print()\n",
    "\n",
    "# Mark where the original SCvH EOS table was extended below T=100K\n",
    "index = np.min(np.where(logT_table_axis >= 2.0))\n",
    "print(\"The EOS table was extended until index={:} logT={:}\".format(index, logT_table_axis[index]))\n"
   ]
  },
  {
   "cell_type": "code",
   "execution_count": null,
   "metadata": {},
   "outputs": [],
   "source": [
    "# Generate interpolation functions for each isotherm\n",
    "\n",
    "logrho_of_P_int = list()\n",
    "logu_of_P_int = list()\n",
    "logs_of_P_int = list()\n",
    "\n",
    "for i in range(0, nT):\n",
    "    logrho_of_P_int.append(interp.InterpolatedUnivariateSpline(logP_table_axis[i], logrho_isotherm[i], k=1))\n",
    "    logu_of_P_int.append(interp.InterpolatedUnivariateSpline(logP_table_axis[i], logu_isotherm[i], k=1))\n",
    "    logs_of_P_int.append(interp.InterpolatedUnivariateSpline(logP_table_axis[i], logs_isotherm[i], k=1))\n"
   ]
  },
  {
   "cell_type": "markdown",
   "metadata": {},
   "source": [
    "First plot the table and check if the result looks sensible."
   ]
  },
  {
   "cell_type": "code",
   "execution_count": null,
   "metadata": {},
   "outputs": [],
   "source": [
    "# Skip some curves otherwise the plots are very hard to read\n",
    "nSkipT = 5\n",
    "nSkipRho = 10"
   ]
  },
  {
   "cell_type": "code",
   "execution_count": null,
   "metadata": {},
   "outputs": [],
   "source": [
    "# Plot log(rho), log(u) and log(s)\n",
    "fig, ax = plt.subplots(3, 2)\n",
    "\n",
    "x, y = fig.get_size_inches()\n",
    "\n",
    "fig.set_size_inches(2*x, 3*y)\n",
    "\n",
    "# rho(P, T=const)\n",
    "for i in range(0, nT, nSkipT):\n",
    "    ax[0][0].plot(logP_table_axis[i], logrho_isotherm[i], '-')\n",
    "    \n",
    "ax[0][0].plot(logP_table_axis[0], logrho_isotherm[0], '--', color='black', label=r\"T$_{min}$\")\n",
    "\n",
    "    \n",
    "ax[0][0].set(xlabel=\"log(P) [erg cm$^{-3}$]\", ylabel=\"log(rho) [g cm^${-3}$]\")\n",
    "ax[0][0].set(title=\"SCvH EOS H (T=const.)\")\n",
    "\n",
    "\"\"\"\n",
    "# P(rho=const, T)\n",
    "for i in range(0, nRho, nSkipRho):\n",
    "    ax[0][1].plot(logT_table, logP[:,i], '-')\n",
    "\n",
    "ax[0][1].set(xlabel=\"log(T) [K]\", ylabel=\"log(P) [erg cm$^{-3}$]\")\n",
    "ax[0][1].set(title=\"SCvH EOS H (rho=const.)\")\n",
    "\"\"\"\n",
    "\n",
    "# u(rho, T=const)\n",
    "for i in range(0, nT, nSkipT):\n",
    "    ax[1][0].plot(logrho_table, logu[i,:], '-')\n",
    "\n",
    "ax[1][0].set(xlabel=\"log(rho) [g cm^${-3}$]\", ylabel=\"log(u) [erg g$^{-1}$]\")\n",
    "\n",
    "# u(rho=const, T)\n",
    "for i in range(0, nRho, nSkipRho):\n",
    "    ax[1][1].plot(logT_table, logu[:,i], '-')\n",
    "\n",
    "ax[1][1].set(xlabel=\"log(T) [K]\", ylabel=\"log(u) [erg g$^{-1}$]\")\n",
    "\n",
    "# s(rho, T=const)\n",
    "for i in range(0, nT, nSkipT):\n",
    "    ax[2][0].plot(logrho_table, logs[i,:], '-')\n",
    "\n",
    "ax[2][0].set(xlabel=\"log(rho) [g cm^${-3}$]\", ylabel=\"log(s) [erg g$^{-1}$ K$^{-1}$]\")\n",
    "\n",
    "# s(rho=const, T)\n",
    "for i in range(0, nRho, nSkipRho):\n",
    "    ax[2][1].plot(logT_table, logs[:,i], '-')\n",
    "\n",
    "ax[2][1].set(xlabel=\"log(T) [K]\", ylabel=\"log(s) [erg g$^{-1}$ K$^{-1}$]\")\n"
   ]
  }
 ],
 "metadata": {
  "kernelspec": {
   "display_name": "Python 3 (ipykernel)",
   "language": "python",
   "name": "python3"
  },
  "language_info": {
   "codemirror_mode": {
    "name": "ipython",
    "version": 3
   },
   "file_extension": ".py",
   "mimetype": "text/x-python",
   "name": "python",
   "nbconvert_exporter": "python",
   "pygments_lexer": "ipython3",
   "version": "3.10.6"
  }
 },
 "nbformat": 4,
 "nbformat_minor": 4
}
